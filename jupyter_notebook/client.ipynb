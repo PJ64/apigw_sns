{
 "cells": [
  {
   "cell_type": "markdown",
   "metadata": {},
   "source": [
    "# Event Sourcing with Amazon EventBridge"
   ]
  },
  {
   "cell_type": "markdown",
   "metadata": {},
   "source": [
    "This example presents one approach to building serverless event driven architecture.  The example demonstrates how to send notifications using Amazon API Gateway and Amazon SNS. A complete solution would most likely include additional AWS services, in this case, the example focuses on how to trigger an email notification using Amazon SNS and Amazon API Gateway. You will need an email account that you have access to."
   ]
  },
  {
   "cell_type": "markdown",
   "metadata": {},
   "source": [
    "![architecture](../images/architecture_1.png \"Architecture\")"
   ]
  },
  {
   "cell_type": "markdown",
   "metadata": {},
   "source": [
    "## Jupyter Notebook Scripts\n",
    "\n",
    "1. The first script sets variables used throughout the example.\n",
    "\n",
    "\n",
    "2. The second script creates an SNS subscription using your prefer email\n",
    "\n",
    "\n",
    "3. The third script sends a new order to the api gateway endpoint.\n",
    "\n",
    "\n"
   ]
  },
  {
   "cell_type": "markdown",
   "metadata": {},
   "source": [
    "## Set variables\n",
    "- Make sure you set **gwid** to your gateway id using `gwid = '...'`\n",
    "- Make sure you set **region** to your preferred region using `region = '...'`\n",
    "- Make sure you set **email** to your preferred email using `email = '...'`"
   ]
  },
  {
   "cell_type": "code",
   "execution_count": null,
   "metadata": {},
   "outputs": [],
   "source": [
    "import boto3, requests, datetime\n",
    "from random import randrange\n",
    "\n",
    "#Set gateway id\n",
    "gwid = '...'\n",
    "\n",
    "#Set your AWS region, e.g. ap-southeast-2\n",
    "region = '...' \n",
    "\n",
    "#Set your preferred email\n",
    "email = '...' "
   ]
  },
  {
   "cell_type": "markdown",
   "metadata": {},
   "source": [
    "## Create SNS subscription"
   ]
  },
  {
   "cell_type": "code",
   "execution_count": null,
   "metadata": {},
   "outputs": [],
   "source": [
    "accountid = boto3.client('sts').get_caller_identity().get('Account')\n",
    "client = boto3.client('sns')\n",
    "response = client.subscribe(\n",
    "    TopicArn=f'arn:aws:sns:{region}:{accountid}:demo_apigw_sns',\n",
    "    Protocol='email',\n",
    "    Endpoint=email,\n",
    "    ReturnSubscriptionArn=True\n",
    ")"
   ]
  },
  {
   "cell_type": "markdown",
   "metadata": {},
   "source": [
    "**Don't forget to** check your email and confirm your SNS subscription, don't continue until you complete this step."
   ]
  },
  {
   "cell_type": "markdown",
   "metadata": {},
   "source": [
    "## Send an order to the API Gateway\n",
    "\n",
    "This script will POST a message to the API Gateway which will then publish the message to the SNS topic. If you have confirmed the subscription you should receive an email with the order details."
   ]
  },
  {
   "cell_type": "code",
   "execution_count": null,
   "metadata": {},
   "outputs": [],
   "source": [
    "city_list=[\"Adelaide\",\"Brisbane\",\"Canberra\",\"Darwin\",\"Geelong\",\"Gold Coast\",\"Hobart\",\"Melbourne\",\"Perth\",\"Sydney\",\"Wollongong\"]\n",
    "coffeetype_list=[\"Short Black\",\"Flat White\",\"Latte\",\"Long Black\"]\n",
    "coffeesize_list=[{\"size\":\"Small\",\"price\":\"3.5\"},{\"size\":\"Medium\",\"price\":\"4.0\"},{\"size\":\"Large\",\"price\":\"4.5\"},{\"size\":\"x-Large\",\"price\":\"5.0\"}]\n",
    "\n",
    "url = (f'https://{gwid}.execute-api.{region}.amazonaws.com/prod/order')\n",
    "\n",
    "accountid = 'a' + str(1)\n",
    "vendorid = 'v' + str(1)\n",
    "orderdate = str(datetime.datetime.now())\n",
    "coffeesize = randrange(4)\n",
    "quantity = randrange(10)+1\n",
    "city = city_list[randrange(11)]\n",
    "eventtype=\"new_order\"\n",
    "response = requests.post(url,json={'order':{\n",
    "        'accountid': accountid,\n",
    "        'orderdate':orderdate,\n",
    "        'vendorid': vendorid,\n",
    "        'city':city,\n",
    "        'details':{\n",
    "            'coffeetype': coffeetype_list[randrange(4)],\n",
    "            'coffeesize': coffeesize_list[coffeesize][\"size\"],\n",
    "            'unitprice': coffeesize_list[coffeesize][\"price\"],\n",
    "            'quantity': quantity\n",
    "        },\n",
    "        'eventtype':[eventtype]\n",
    "    }\n",
    "})\n",
    "\n",
    "print(response)"
   ]
  },
  {
   "cell_type": "markdown",
   "metadata": {},
   "source": []
  }
 ],
 "metadata": {
  "kernelspec": {
   "display_name": "Python 3 (ipykernel)",
   "language": "python",
   "name": "python3"
  },
  "language_info": {
   "codemirror_mode": {
    "name": "ipython",
    "version": 3
   },
   "file_extension": ".py",
   "mimetype": "text/x-python",
   "name": "python",
   "nbconvert_exporter": "python",
   "pygments_lexer": "ipython3",
   "version": "3.8.12"
  }
 },
 "nbformat": 4,
 "nbformat_minor": 4
}
